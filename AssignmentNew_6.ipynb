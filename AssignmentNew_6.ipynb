{
 "cells": [
  {
   "cell_type": "markdown",
   "metadata": {},
   "source": [
    "# Write a function so that the columns of the output matrix are powers of the input vector.\n",
    "\n",
    "# The order of the powers is determined by the increasing boolean argument. Specifically, when increasing is False,\n",
    "# the i-th output column is the input vector raised element-wise to the power of N - i - 1."
   ]
  },
  {
   "cell_type": "code",
   "execution_count": 2,
   "metadata": {},
   "outputs": [
    {
     "name": "stdout",
     "output_type": "stream",
     "text": [
      "Alexandre-Theophile Vandermonde matrix when increasing is True:\n",
      " [[ 1  1  1  1]\n",
      " [ 1  2  4  8]\n",
      " [ 1  3  9 27]\n",
      " [ 1  4 16 64]]\n",
      "\n",
      "Alexandre-Theophile Vandermonde matrix when increasing is False:\n",
      " [[ 1  1  1  1]\n",
      " [ 8  4  2  1]\n",
      " [27  9  3  1]\n",
      " [64 16  4  1]]\n",
      "\n",
      "Alexandre-Theophile Vandermonde matrix when increasing is False:\n",
      " [[ 1  1  1]\n",
      " [ 4  2  1]\n",
      " [ 9  3  1]\n",
      " [16  4  1]]\n"
     ]
    }
   ],
   "source": [
    "import numpy as np\n",
    "\n",
    "#function to create Alexandre-Theophile Vandermonde matrix\n",
    "def Vandermonde(list, N, flag = True):\n",
    "    return np.vander(list, N, increasing = flag)\n",
    "    \n",
    "x = np.array([1, 2, 3, 4])\n",
    "print(\"Alexandre-Theophile Vandermonde matrix when increasing is True:\\n\",Vandermonde(x, 4 , True))\n",
    "print(\"\")\n",
    "print(\"Alexandre-Theophile Vandermonde matrix when increasing is False:\\n\", Vandermonde(x, 4, False))\n",
    "print(\"\")\n",
    "print(\"Alexandre-Theophile Vandermonde matrix when increasing is False:\\n\", Vandermonde(x, 3, False))"
   ]
  },
  {
   "cell_type": "code",
   "execution_count": null,
   "metadata": {},
   "outputs": [],
   "source": []
  }
 ],
 "metadata": {
  "kernelspec": {
   "display_name": "Python 3",
   "language": "python",
   "name": "python3"
  },
  "language_info": {
   "codemirror_mode": {
    "name": "ipython",
    "version": 3
   },
   "file_extension": ".py",
   "mimetype": "text/x-python",
   "name": "python",
   "nbconvert_exporter": "python",
   "pygments_lexer": "ipython3",
   "version": "3.6.5"
  }
 },
 "nbformat": 4,
 "nbformat_minor": 2
}
